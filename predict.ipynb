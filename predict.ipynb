{
 "cells": [
  {
   "cell_type": "code",
   "execution_count": 1,
   "id": "39b29177",
   "metadata": {},
   "outputs": [
    {
     "name": "stdout",
     "output_type": "stream",
     "text": [
      "Mon Jun 10 19:55:33 2024       \n",
      "+---------------------------------------------------------------------------------------+\n",
      "| NVIDIA-SMI 545.36                 Driver Version: 546.33       CUDA Version: 12.3     |\n",
      "|-----------------------------------------+----------------------+----------------------+\n",
      "| GPU  Name                 Persistence-M | Bus-Id        Disp.A | Volatile Uncorr. ECC |\n",
      "| Fan  Temp   Perf          Pwr:Usage/Cap |         Memory-Usage | GPU-Util  Compute M. |\n",
      "|                                         |                      |               MIG M. |\n",
      "|=========================================+======================+======================|\n",
      "|   0  NVIDIA GeForce RTX 3060 Ti     On  | 00000000:01:00.0  On |                  N/A |\n",
      "|  0%   56C    P5              30W / 200W |   1908MiB /  8192MiB |      7%      Default |\n",
      "|                                         |                      |                  N/A |\n",
      "+-----------------------------------------+----------------------+----------------------+\n",
      "                                                                                         \n",
      "+---------------------------------------------------------------------------------------+\n",
      "| Processes:                                                                            |\n",
      "|  GPU   GI   CI        PID   Type   Process name                            GPU Memory |\n",
      "|        ID   ID                                                             Usage      |\n",
      "|=======================================================================================|\n",
      "|    0   N/A  N/A        32      G   /Xwayland                                 N/A      |\n",
      "|    0   N/A  N/A       808      C   /python3.8                                N/A      |\n",
      "+---------------------------------------------------------------------------------------+\n"
     ]
    }
   ],
   "source": [
    "!nvidia-smi"
   ]
  },
  {
   "cell_type": "code",
   "execution_count": 3,
   "id": "7593473e",
   "metadata": {},
   "outputs": [],
   "source": [
    "import pandas as pd\n",
    "\n",
    "from transformers import pipeline, AutoTokenizer, AutoModelForTokenClassification\n",
    "\n",
    "from utils import get_word_indicies, process_prediction, get_prediction"
   ]
  },
  {
   "cell_type": "code",
   "execution_count": 4,
   "id": "1db12262",
   "metadata": {},
   "outputs": [],
   "source": [
    "test = pd.read_csv('gt_test.csv')\n",
    "\n",
    "test['label'] = test['label'].apply(lambda x: eval(x))\n",
    "test = test.rename(columns={'label':'default_label'})\n",
    "\n",
    "tokenizer = AutoTokenizer.from_pretrained('samolet_finetuned_0_59', model_max_length=512)\n",
    "model = AutoModelForTokenClassification.from_pretrained('samolet_finetuned_0_59')\n",
    "\n",
    "pipe = pipeline(model=model, tokenizer=tokenizer, task='ner', aggregation_strategy='average', device=0)"
   ]
  },
  {
   "cell_type": "code",
   "execution_count": 5,
   "id": "0b78de21",
   "metadata": {},
   "outputs": [
    {
     "name": "stderr",
     "output_type": "stream",
     "text": [
      "You seem to be using the pipelines sequentially on GPU. In order to maximize efficiency please use a dataset\n"
     ]
    }
   ],
   "source": [
    "label_lst = []\n",
    "\n",
    "for text in test['processed_text']:\n",
    "    prediction = pipe(text)\n",
    "    pred_labels = get_prediction(text, prediction)\n",
    "    label_lst.append(pred_labels)"
   ]
  },
  {
   "cell_type": "code",
   "execution_count": 11,
   "id": "7d63e98c",
   "metadata": {},
   "outputs": [],
   "source": [
    "test['label'] = label_lst"
   ]
  },
  {
   "cell_type": "code",
   "execution_count": 12,
   "id": "5e9825ff",
   "metadata": {},
   "outputs": [],
   "source": [
    "if len(test[[len(pred) != len(default) for pred, default in test[['default_label', 'label']].values]]) != 0:\n",
    "    raise(ValueError('Prediction and default label length mismatch'))\n",
    "    \n",
    "if len(test[test['label'] != test['default_label']]) == 0:\n",
    "    raise(ValueError('No predictions detected'))"
   ]
  },
  {
   "cell_type": "code",
   "execution_count": 13,
   "id": "d8a50124",
   "metadata": {},
   "outputs": [
    {
     "name": "stdout",
     "output_type": "stream",
     "text": [
      "75\n"
     ]
    }
   ],
   "source": [
    "print(len(test[test['label'] != test['default_label']]))"
   ]
  },
  {
   "cell_type": "code",
   "execution_count": 14,
   "id": "1a37764a",
   "metadata": {},
   "outputs": [],
   "source": [
    "test[['processed_text', 'label']].to_csv('prediction.csv', index=False)"
   ]
  }
 ],
 "metadata": {
  "kernelspec": {
   "display_name": "Python 3 (ipykernel)",
   "language": "python",
   "name": "python3"
  },
  "language_info": {
   "codemirror_mode": {
    "name": "ipython",
    "version": 3
   },
   "file_extension": ".py",
   "mimetype": "text/x-python",
   "name": "python",
   "nbconvert_exporter": "python",
   "pygments_lexer": "ipython3",
   "version": "3.8.13"
  }
 },
 "nbformat": 4,
 "nbformat_minor": 5
}
